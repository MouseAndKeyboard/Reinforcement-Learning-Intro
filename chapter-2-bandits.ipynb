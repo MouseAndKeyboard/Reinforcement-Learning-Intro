{
 "cells": [
  {
   "cell_type": "code",
   "execution_count": 16,
   "metadata": {},
   "outputs": [],
   "source": [
    "import gym_bandits\n",
    "import gym\n",
    "import numpy as np\n",
    "import random"
   ]
  },
  {
   "cell_type": "code",
   "execution_count": null,
   "metadata": {},
   "outputs": [],
   "source": []
  },
  {
   "cell_type": "code",
   "execution_count": null,
   "metadata": {},
   "outputs": [],
   "source": []
  },
  {
   "cell_type": "code",
   "execution_count": 181,
   "metadata": {},
   "outputs": [],
   "source": [
    "class BanditAgent():\n",
    "    def __init__(self, epsilon):\n",
    "        \n",
    "        self.epsilon = epsilon\n",
    "        \n",
    "        self.rewardsPerAction = np.array([\n",
    "            0,\n",
    "            0,\n",
    "            0,\n",
    "            0,\n",
    "            0,\n",
    "            0,\n",
    "            0,\n",
    "            0,\n",
    "            0,\n",
    "            0\n",
    "        ])\n",
    "        self.actionCounts = np.array([\n",
    "            0,\n",
    "            0,\n",
    "            0,\n",
    "            0,\n",
    "            0,\n",
    "            0,\n",
    "            0,\n",
    "            0,\n",
    "            0,\n",
    "            0\n",
    "        ])\n",
    "    \n",
    "    def Q(self, a):\n",
    "        if self.actionCounts[a] == 0:\n",
    "            return 0\n",
    "        \n",
    "        estimated_value = self.rewardsPerAction[a] / self.actionCounts[a]\n",
    "        return estimated_value\n",
    "    \n",
    "    def getAllValueEstimates(self):\n",
    "        \n",
    "        estimates = np.zeros((9,))\n",
    "        for action in range(len(estimates)):\n",
    "            estimates[action] = self.Q(action)\n",
    "        \n",
    "        return estimates\n",
    "        \n",
    "    \n",
    "    def greedy_policy(self):\n",
    "        action = np.argmax(self.getAllValueEstimates())\n",
    "        return action\n",
    "    \n",
    "    def e_greedy_policy(self):\n",
    "        if random.random() < self.epsilon:\n",
    "            return random.randint(0, 9)\n",
    "        else:\n",
    "            return self.greedy_policy()\n",
    "    \n",
    "    def train(self, action_taken, reward):\n",
    "        self.rewardsPerAction[action_taken] += reward\n",
    "        self.actionCounts += 1"
   ]
  },
  {
   "cell_type": "code",
   "execution_count": 182,
   "metadata": {},
   "outputs": [
    {
     "data": {
      "text/plain": [
       "0"
      ]
     },
     "execution_count": 182,
     "metadata": {},
     "output_type": "execute_result"
    }
   ],
   "source": [
    "env = gym.make(\"BanditTenArmedGaussian-v0\")\n",
    "env.reset()"
   ]
  },
  {
   "cell_type": "code",
   "execution_count": 183,
   "metadata": {},
   "outputs": [],
   "source": [
    "game_length = 1000\n",
    "agent = BanditAgent(0.1)\n",
    "\n",
    "rewards = []\n",
    "\n",
    "for i in range(game_length):\n",
    "    action = agent.e_greedy_policy()\n",
    "    _, reward, _, _ = env.step(action)\n",
    "    agent.train(action, reward)\n",
    "    rewards.append(reward)"
   ]
  },
  {
   "cell_type": "code",
   "execution_count": 184,
   "metadata": {},
   "outputs": [],
   "source": [
    "from matplotlib import pyplot as plt"
   ]
  },
  {
   "cell_type": "code",
   "execution_count": 185,
   "metadata": {},
   "outputs": [
    {
     "data": {
      "text/plain": [
       "1.4012822058264642"
      ]
     },
     "execution_count": 185,
     "metadata": {},
     "output_type": "execute_result"
    },
    {
     "data": {
      "image/png": "[encoded data removed]",
      "text/plain": [
       "<Figure size 432x288 with 1 Axes>"
      ]
     },
     "metadata": {
      "needs_background": "light"
     },
     "output_type": "display_data"
    }
   ],
   "source": [
    "plt.plot(rewards)\n",
    "np.mean(rewards)"
   ]
  },
  {
   "cell_type": "code",
   "execution_count": 186,
   "metadata": {},
   "outputs": [
    {
     "data": {
      "text/plain": [
       "[[-0.5274012605367359, 1],\n",
       " [0.33988592690608777, 1],\n",
       " [-0.06911060636758455, 1],\n",
       " [0.034932909457146256, 1],\n",
       " [-0.5439189551154788, 1],\n",
       " [-1.0283341666613361, 1],\n",
       " [0.09527434278038478, 1],\n",
       " [1.6525770606498873, 1],\n",
       " [-0.5213330885605079, 1],\n",
       " [-1.8673830328869456, 1]]"
      ]
     },
     "execution_count": 186,
     "metadata": {},
     "output_type": "execute_result"
    }
   ],
   "source": [
    "env.r_dist"
   ]
  },
  {
   "cell_type": "code",
   "execution_count": null,
   "metadata": {},
   "outputs": [],
   "source": []
  },
  {
   "cell_type": "code",
   "execution_count": null,
   "metadata": {},
   "outputs": [],
   "source": []
  }
 ],
 "metadata": {
  "kernelspec": {
   "display_name": "Python 3",
   "language": "python",
   "name": "python3"
  },
  "language_info": {
   "codemirror_mode": {
    "name": "ipython",
    "version": 3
   },
   "file_extension": ".py",
   "mimetype": "text/x-python",
   "name": "python",
   "nbconvert_exporter": "python",
   "pygments_lexer": "ipython3",
   "version": "3.7.4"
  }
 },
 "nbformat": 4,
 "nbformat_minor": 4
}
