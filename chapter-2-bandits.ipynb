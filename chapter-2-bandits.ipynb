{
 "cells": [
  {
   "cell_type": "code",
   "execution_count": 1,
   "metadata": {},
   "outputs": [],
   "source": [
    "import gym_bandits\n",
    "import gym\n",
    "import numpy as np\n",
    "import random"
   ]
  },
  {
   "cell_type": "code",
   "execution_count": null,
   "metadata": {},
   "outputs": [],
   "source": []
  },
  {
   "cell_type": "code",
   "execution_count": null,
   "metadata": {},
   "outputs": [],
   "source": []
  },
  {
   "cell_type": "code",
   "execution_count": 2,
   "metadata": {},
   "outputs": [],
   "source": [
    "class BanditAgent():\n",
    "    def __init__(self, epsilon):\n",
    "        \n",
    "        self.epsilon = epsilon\n",
    "        \n",
    "        self.rewardsPerAction = np.array([\n",
    "            0,\n",
    "            0,\n",
    "            0,\n",
    "            0,\n",
    "            0,\n",
    "            0,\n",
    "            0,\n",
    "            0,\n",
    "            0,\n",
    "            0\n",
    "        ])\n",
    "        self.actionCounts = np.array([\n",
    "            0,\n",
    "            0,\n",
    "            0,\n",
    "            0,\n",
    "            0,\n",
    "            0,\n",
    "            0,\n",
    "            0,\n",
    "            0,\n",
    "            0\n",
    "        ])\n",
    "    \n",
    "    def Q(self, a):\n",
    "        if self.actionCounts[a] == 0:\n",
    "            return 0\n",
    "        \n",
    "        estimated_value = self.rewardsPerAction[a] / self.actionCounts[a]\n",
    "        return estimated_value\n",
    "    \n",
    "    def getAllValueEstimates(self):\n",
    "        \n",
    "        estimates = np.zeros((9,))\n",
    "        for action in range(len(estimates)):\n",
    "            estimates[action] = self.Q(action)\n",
    "        \n",
    "        return estimates\n",
    "        \n",
    "    \n",
    "    def greedy_policy(self):\n",
    "        action = np.argmax(self.getAllValueEstimates())\n",
    "        return action\n",
    "    \n",
    "    def e_greedy_policy(self):\n",
    "        if random.random() < self.epsilon:\n",
    "            return random.randint(0, 9)\n",
    "        else:\n",
    "            return self.greedy_policy()\n",
    "    \n",
    "    def train(self, action_taken, reward):\n",
    "        self.rewardsPerAction[action_taken] += reward\n",
    "        self.actionCounts += 1\n",
    "        \n",
    "        "
   ]
  },
  {
   "cell_type": "code",
   "execution_count": 3,
   "metadata": {},
   "outputs": [],
   "source": [
    "class BanditAgentRollingPredictions():\n",
    "    def __init__(self, epsilon):\n",
    "        \n",
    "        self.epsilon = epsilon\n",
    "        \n",
    "        self.actionCounts = np.array([\n",
    "            0,\n",
    "            0,\n",
    "            0,\n",
    "            0,\n",
    "            0,\n",
    "            0,\n",
    "            0,\n",
    "            0,\n",
    "            0,\n",
    "            0\n",
    "        ])\n",
    "        \n",
    "        self.valuePredictions = np.array([\n",
    "            0.,\n",
    "            0.,\n",
    "            0.,\n",
    "            0.,\n",
    "            0.,\n",
    "            0.,\n",
    "            0.,\n",
    "            0.,\n",
    "            0.,\n",
    "            0.\n",
    "        ])\n",
    "        \n",
    "        \n",
    "        \n",
    "    def greedy_policy(self):\n",
    "        action = np.argmax(self.valuePredictions)\n",
    "        return action\n",
    "    \n",
    "    def e_greedy_policy(self):\n",
    "        if random.random() < self.epsilon:\n",
    "            return random.randint(0, 9)\n",
    "        else:\n",
    "            return self.greedy_policy()\n",
    "    \n",
    "    def train(self, action_taken, reward):\n",
    "        self.actionCounts[action_taken] += 1\n",
    "        \n",
    "        error = (reward - self.valuePredictions[action_taken])\n",
    "        lr = step_size\n",
    "        \n",
    "        new_Q = self.valuePredictions[action_taken] + lr * error\n",
    "        \n",
    "        self.valuePredictions[action_taken] = new_Q\n",
    "        "
   ]
  },
  {
   "cell_type": "code",
   "execution_count": 4,
   "metadata": {},
   "outputs": [
    {
     "data": {
      "text/plain": [
       "0"
      ]
     },
     "execution_count": 4,
     "metadata": {},
     "output_type": "execute_result"
    }
   ],
   "source": [
    "env = gym.make(\"BanditTenArmedGaussian-v0\")\n",
    "env.reset()"
   ]
  },
  {
   "cell_type": "code",
   "execution_count": 5,
   "metadata": {},
   "outputs": [],
   "source": [
    "game_length = 9000\n",
    "agent = BanditAgentRollingPredictions(0.01)\n",
    "\n",
    "rewards = []\n",
    "\n",
    "for i in range(game_length):\n",
    "    action = agent.e_greedy_policy()\n",
    "    _, reward, _, _ = env.step(action)\n",
    "    agent.train(action, reward)\n",
    "    rewards.append(reward)"
   ]
  },
  {
   "cell_type": "code",
   "execution_count": 6,
   "metadata": {},
   "outputs": [],
   "source": [
    "from matplotlib import pyplot as plt"
   ]
  },
  {
   "cell_type": "code",
   "execution_count": 7,
   "metadata": {},
   "outputs": [
    {
     "data": {
      "text/plain": [
       "2.1080585101984863"
      ]
     },
     "execution_count": 7,
     "metadata": {},
     "output_type": "execute_result"
    },
    {
     "data": {
      "image/png": "[encoded data removed]",
      "text/plain": [
       "<Figure size 432x288 with 1 Axes>"
      ]
     },
     "metadata": {
      "needs_background": "light"
     },
     "output_type": "display_data"
    }
   ],
   "source": [
    "plt.plot(rewards)\n",
    "np.mean(rewards)"
   ]
  },
  {
   "cell_type": "code",
   "execution_count": 8,
   "metadata": {},
   "outputs": [
    {
     "data": {
      "text/plain": [
       "[[-1.335354978566212, 1],\n",
       " [0.4099205533975954, 1],\n",
       " [0.35455808638386777, 1],\n",
       " [0.7932655115595241, 1],\n",
       " [-0.510507388990616, 1],\n",
       " [2.1676359992954417, 1],\n",
       " [-0.7061388501780564, 1],\n",
       " [-1.0853544196464266, 1],\n",
       " [0.46565132144243265, 1],\n",
       " [0.045171303762423246, 1]]"
      ]
     },
     "execution_count": 8,
     "metadata": {},
     "output_type": "execute_result"
    }
   ],
   "source": [
    "env.r_dist"
   ]
  },
  {
   "cell_type": "code",
   "execution_count": 9,
   "metadata": {},
   "outputs": [
    {
     "data": {
      "text/plain": [
       "array([-3.05414153,  0.05238304,  0.26278471,  0.73576993, -0.61878613,\n",
       "        2.15481535, -1.15708551, -0.95793364,  1.16430395,  0.39071888])"
      ]
     },
     "execution_count": 9,
     "metadata": {},
     "output_type": "execute_result"
    }
   ],
   "source": [
    "agent.valuePredictions"
   ]
  },
  {
   "cell_type": "code",
   "execution_count": 10,
   "metadata": {},
   "outputs": [
    {
     "data": {
      "text/plain": [
       "1.8004114149703787"
      ]
     },
     "execution_count": 10,
     "metadata": {},
     "output_type": "execute_result"
    }
   ],
   "source": [
    "2.0004571277448653 * 0.9"
   ]
  },
  {
   "cell_type": "markdown",
   "metadata": {},
   "source": [
    "*Exercise 2.5 (programming)* Design and conduct an experiment to demonstrate the\n",
    "difficulties that sample-average methods have for nonstationary problems. Use a modified\n",
    "version of the 10-armed testbed in which all the q\\*(a) start out equal and then take\n",
    "independent random walks (say by adding a normally distributed increment with mean\n",
    "zero and standard deviation 0.01 to all the q\\*(a) on each step). Prepare plots like\n",
    "Figure 2.2 for an action-value method using sample averages, incrementally computed,\n",
    "and another action-value method using a constant step-size parameter, alpha = 0.1. Use\n",
    "epsilon = 0.1 and longer runs, say of 10,000 steps."
   ]
  },
  {
   "cell_type": "code",
   "execution_count": 33,
   "metadata": {},
   "outputs": [],
   "source": [
    "env2 = gym.make(\"BanditTenArmedNonstationaryConstantGaussian-v0\")\n",
    "env2.r_dist = [[0,1],[0,1],[0,1],[0,1],[0,1],[0,1],[0,1],[0,1],[0,1],[0,1]]\n",
    "game_length = 10_000\n",
    "agent = BanditAgent(0.1)\n",
    "\n",
    "rewards = []\n",
    "\n",
    "for i in range(game_length):\n",
    "    action = agent.e_greedy_policy()\n",
    "    _, reward, _, _ = env2.step(action)\n",
    "    agent.train(action, reward)\n",
    "    rewards.append(reward)"
   ]
  },
  {
   "cell_type": "code",
   "execution_count": 34,
   "metadata": {},
   "outputs": [
    {
     "data": {
      "text/plain": [
       "0.7164174586675305"
      ]
     },
     "execution_count": 34,
     "metadata": {},
     "output_type": "execute_result"
    },
    {
     "data": {
      "image/png": "[encoded data removed]",
      "text/plain": [
       "<Figure size 432x288 with 1 Axes>"
      ]
     },
     "metadata": {
      "needs_background": "light"
     },
     "output_type": "display_data"
    }
   ],
   "source": [
    "plt.plot(rewards)\n",
    "np.mean(rewards)"
   ]
  },
  {
   "cell_type": "code",
   "execution_count": null,
   "metadata": {},
   "outputs": [],
   "source": []
  }
 ],
 "metadata": {
  "kernelspec": {
   "display_name": "Python 3",
   "language": "python",
   "name": "python3"
  },
  "language_info": {
   "codemirror_mode": {
    "name": "ipython",
    "version": 3
   },
   "file_extension": ".py",
   "mimetype": "text/x-python",
   "name": "python",
   "nbconvert_exporter": "python",
   "pygments_lexer": "ipython3",
   "version": "3.7.4"
  }
 },
 "nbformat": 4,
 "nbformat_minor": 4
}
