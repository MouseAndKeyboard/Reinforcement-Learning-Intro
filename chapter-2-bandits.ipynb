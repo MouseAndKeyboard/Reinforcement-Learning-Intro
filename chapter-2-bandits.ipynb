{
 "cells": [
  {
   "cell_type": "code",
   "execution_count": 18,
   "metadata": {},
   "outputs": [],
   "source": [
    "import gym_bandits\n",
    "import gym\n",
    "import numpy as np\n",
    "import random"
   ]
  },
  {
   "cell_type": "code",
   "execution_count": 19,
   "metadata": {},
   "outputs": [],
   "source": [
    "class BanditAgent():\n",
    "    def __init__(self, epsilon):\n",
    "        \n",
    "        self.epsilon = epsilon\n",
    "        \n",
    "        self.rewardsPerAction = np.array([\n",
    "            0,\n",
    "            0,\n",
    "            0,\n",
    "            0,\n",
    "            0,\n",
    "            0,\n",
    "            0,\n",
    "            0,\n",
    "            0,\n",
    "            0\n",
    "        ])\n",
    "        self.actionCounts = np.array([\n",
    "            0,\n",
    "            0,\n",
    "            0,\n",
    "            0,\n",
    "            0,\n",
    "            0,\n",
    "            0,\n",
    "            0,\n",
    "            0,\n",
    "            0\n",
    "        ])\n",
    "    \n",
    "    def Q(self, a):\n",
    "        if self.actionCounts[a] == 0:\n",
    "            return 0\n",
    "        \n",
    "        estimated_value = self.rewardsPerAction[a] / self.actionCounts[a]\n",
    "        return estimated_value\n",
    "    \n",
    "    def getAllValueEstimates(self):\n",
    "        \n",
    "        estimates = np.zeros((9,))\n",
    "        for action in range(len(estimates)):\n",
    "            estimates[action] = self.Q(action)\n",
    "        \n",
    "        return estimates\n",
    "        \n",
    "    \n",
    "    def greedy_policy(self):\n",
    "        action = np.argmax(self.getAllValueEstimates())\n",
    "        return action\n",
    "    \n",
    "    def e_greedy_policy(self):\n",
    "        if random.random() < self.epsilon:\n",
    "            return random.randint(0, 9)\n",
    "        else:\n",
    "            return self.greedy_policy()\n",
    "    \n",
    "    def train(self, action_taken, reward):\n",
    "        self.rewardsPerAction[action_taken] += reward\n",
    "        self.actionCounts += 1\n",
    "        \n",
    "        "
   ]
  },
  {
   "cell_type": "code",
   "execution_count": 20,
   "metadata": {},
   "outputs": [],
   "source": [
    "class BanditAgentRollingPredictions():\n",
    "    def __init__(self, epsilon, step_size=None):\n",
    "        \n",
    "        self.step_size = step_size\n",
    "        self.epsilon = epsilon\n",
    "        \n",
    "        self.actionCounts = np.array([\n",
    "            0,\n",
    "            0,\n",
    "            0,\n",
    "            0,\n",
    "            0,\n",
    "            0,\n",
    "            0,\n",
    "            0,\n",
    "            0,\n",
    "            0\n",
    "        ])\n",
    "        \n",
    "        self.valuePredictions = np.array([\n",
    "            0.,\n",
    "            0.,\n",
    "            0.,\n",
    "            0.,\n",
    "            0.,\n",
    "            0.,\n",
    "            0.,\n",
    "            0.,\n",
    "            0.,\n",
    "            0.\n",
    "        ])\n",
    "        \n",
    "        \n",
    "        \n",
    "    def greedy_policy(self):\n",
    "        action = np.argmax(self.valuePredictions)\n",
    "        return action\n",
    "    \n",
    "    def e_greedy_policy(self):\n",
    "        if random.random() < self.epsilon:\n",
    "            return random.randint(0, 9)\n",
    "        else:\n",
    "            return self.greedy_policy()\n",
    "    \n",
    "    def train(self, action_taken, reward):\n",
    "        self.actionCounts[action_taken] += 1\n",
    "        \n",
    "        error = (reward - self.valuePredictions[action_taken])\n",
    "        lr = self.step_size\n",
    "        \n",
    "        new_Q = self.valuePredictions[action_taken] + lr * error\n",
    "        \n",
    "        self.valuePredictions[action_taken] = new_Q\n",
    "        "
   ]
  },
  {
   "cell_type": "code",
   "execution_count": 21,
   "metadata": {},
   "outputs": [
    {
     "data": {
      "text/plain": [
       "0"
      ]
     },
     "execution_count": 21,
     "metadata": {},
     "output_type": "execute_result"
    }
   ],
   "source": [
    "env = gym.make(\"BanditTenArmedGaussian-v0\")\n",
    "env.reset()"
   ]
  },
  {
   "cell_type": "code",
   "execution_count": 22,
   "metadata": {},
   "outputs": [],
   "source": [
    "game_length = 9000\n",
    "agent = BanditAgentRollingPredictions(0.1, step_size=0.1)\n",
    "\n",
    "rewards = []\n",
    "\n",
    "for i in range(game_length):\n",
    "    action = agent.e_greedy_policy()\n",
    "    _, reward, _, _ = env.step(action)\n",
    "    agent.train(action, reward)\n",
    "    rewards.append(reward)"
   ]
  },
  {
   "cell_type": "code",
   "execution_count": 23,
   "metadata": {},
   "outputs": [],
   "source": [
    "from matplotlib import pyplot as plt"
   ]
  },
  {
   "cell_type": "code",
   "execution_count": 24,
   "metadata": {},
   "outputs": [
    {
     "data": {
      "text/plain": [
       "1.2219857730385448"
      ]
     },
     "execution_count": 24,
     "metadata": {},
     "output_type": "execute_result"
    },
    {
     "data": {
      "image/png": "[encoded data removed]",
      "text/plain": [
       "<Figure size 432x288 with 1 Axes>"
      ]
     },
     "metadata": {
      "needs_background": "light"
     },
     "output_type": "display_data"
    }
   ],
   "source": [
    "plt.plot(rewards)\n",
    "np.mean(rewards)"
   ]
  },
  {
   "cell_type": "code",
   "execution_count": 25,
   "metadata": {},
   "outputs": [
    {
     "data": {
      "text/plain": [
       "[[0.7921839461642128, 1],\n",
       " [0.1358146889658926, 1],\n",
       " [-0.5224096109399193, 1],\n",
       " [-0.7239210922379551, 1],\n",
       " [-0.84703730418092, 1],\n",
       " [-0.5833329041323305, 1],\n",
       " [-0.0010410448338474942, 1],\n",
       " [-1.1546106567557037, 1],\n",
       " [-0.33041667651943474, 1],\n",
       " [1.4139445731024376, 1]]"
      ]
     },
     "execution_count": 25,
     "metadata": {},
     "output_type": "execute_result"
    }
   ],
   "source": [
    "env.r_dist"
   ]
  },
  {
   "cell_type": "code",
   "execution_count": 26,
   "metadata": {},
   "outputs": [
    {
     "data": {
      "text/plain": [
       "array([ 0.45888901,  0.08362395, -0.44564073, -0.82608588, -0.74771023,\n",
       "       -0.76347534,  0.34222677, -1.34704707, -0.38638462,  1.37558749])"
      ]
     },
     "execution_count": 26,
     "metadata": {},
     "output_type": "execute_result"
    }
   ],
   "source": [
    "agent.valuePredictions"
   ]
  },
  {
   "cell_type": "code",
   "execution_count": 27,
   "metadata": {},
   "outputs": [
    {
     "data": {
      "text/plain": [
       "1.8004114149703787"
      ]
     },
     "execution_count": 27,
     "metadata": {},
     "output_type": "execute_result"
    }
   ],
   "source": [
    "2.0004571277448653 * 0.9"
   ]
  },
  {
   "cell_type": "markdown",
   "metadata": {},
   "source": [
    "*Exercise 2.5 (programming)* Design and conduct an experiment to demonstrate the\n",
    "difficulties that sample-average methods have for nonstationary problems. Use a modified\n",
    "version of the 10-armed testbed in which all the q\\*(a) start out equal and then take\n",
    "independent random walks (say by adding a normally distributed increment with mean\n",
    "zero and standard deviation 0.01 to all the q\\*(a) on each step). Prepare plots like\n",
    "Figure 2.2 for an action-value method using sample averages, incrementally computed,\n",
    "and another action-value method using a constant step-size parameter, alpha = 0.1. Use\n",
    "epsilon = 0.1 and longer runs, say of 10,000 steps."
   ]
  },
  {
   "cell_type": "code",
   "execution_count": 28,
   "metadata": {},
   "outputs": [],
   "source": [
    "env2 = gym.make(\"BanditTenArmedNonstationaryConstantGaussian-v0\")\n",
    "env2.r_dist = [[0,1],[0,1],[0,1],[0,1],[0,1],[0,1],[0,1],[0,1],[0,1],[0,1]]\n",
    "game_length = 100_000\n",
    "agent = BanditAgentRollingPredictions(0.1, step_size=0.1)\n",
    "\n",
    "rewards = []\n",
    "\n",
    "for i in range(game_length):\n",
    "    action = agent.e_greedy_policy()\n",
    "    _, reward, _, _ = env2.step(action)\n",
    "    agent.train(action, reward)\n",
    "    rewards.append(reward)"
   ]
  },
  {
   "cell_type": "code",
   "execution_count": 29,
   "metadata": {},
   "outputs": [
    {
     "data": {
      "text/plain": [
       "2.6823185633496327"
      ]
     },
     "execution_count": 29,
     "metadata": {},
     "output_type": "execute_result"
    },
    {
     "data": {
      "image/png": "[encoded data removed]",
      "text/plain": [
       "<Figure size 432x288 with 1 Axes>"
      ]
     },
     "metadata": {
      "needs_background": "light"
     },
     "output_type": "display_data"
    }
   ],
   "source": [
    "plt.plot(rewards)\n",
    "np.mean(rewards)"
   ]
  },
  {
   "cell_type": "code",
   "execution_count": 30,
   "metadata": {},
   "outputs": [],
   "source": [
    "class UnbiasedConstantStepSizeBandit():\n",
    "    def __init__(self, epsilon, step_size_alpha=None):\n",
    "        \n",
    "        self.step_size = step_size_alpha\n",
    "        self.epsilon = epsilon\n",
    "        \n",
    "        self.actionCounts = np.array([\n",
    "            0,\n",
    "            0,\n",
    "            0,\n",
    "            0,\n",
    "            0,\n",
    "            0,\n",
    "            0,\n",
    "            0,\n",
    "            0,\n",
    "            0\n",
    "        ])\n",
    "        \n",
    "        self.valuePredictions = np.array([\n",
    "            0.,\n",
    "            0.,\n",
    "            0.,\n",
    "            0.,\n",
    "            0.,\n",
    "            0.,\n",
    "            0.,\n",
    "            0.,\n",
    "            0.,\n",
    "            0.\n",
    "        ])\n",
    "        \n",
    "        self.currentO = 0\n",
    "        \n",
    "        \n",
    "    def greedy_policy(self):\n",
    "        action = np.argmax(self.valuePredictions)\n",
    "        return action\n",
    "    \n",
    "    def e_greedy_policy(self):\n",
    "        if random.random() < self.epsilon:\n",
    "            return random.randint(0, 9)\n",
    "        else:\n",
    "            return self.greedy_policy()\n",
    "    \n",
    "    def train(self, action_taken, reward):\n",
    "        self.actionCounts[action_taken] += 1\n",
    "        self.currentO = self.currentO + self.step_size * (1 - self.currentO)\n",
    "        \n",
    "        error = (reward - self.valuePredictions[action_taken])\n",
    "        \n",
    "        lr = self.currentO\n",
    "        \n",
    "        new_Q = self.valuePredictions[action_taken] + lr * error\n",
    "        \n",
    "        self.valuePredictions[action_taken] = new_Q\n",
    "        "
   ]
  },
  {
   "cell_type": "code",
   "execution_count": 35,
   "metadata": {},
   "outputs": [],
   "source": [
    "env3 = gym.make(\"BanditTenArmedNonstationaryConstantGaussian-v0\", step_size=0.1)\n",
    "# env3.r_dist = [[0,1],[0,1],[0,1],[0,1],[0,1],[0,1],[0,1],[0,1],[0,1],[0,1]]\n",
    "game_length = 100_000\n",
    "agent = UnbiasedConstantStepSizeBandit(0.1, step_size_alpha=0.1)\n",
    "\n",
    "rewards = []\n",
    "average_qs = []\n",
    "\n",
    "for i in range(game_length):\n",
    "    action = agent.e_greedy_policy()\n",
    "    average_qs.append(np.sum([arm[0] for arm in env3.r_dist])/10)\n",
    "\n",
    "    _, reward, _, _ = env3.step(action)\n",
    "    agent.train(action, reward)\n",
    "    rewards.append(reward)"
   ]
  },
  {
   "cell_type": "code",
   "execution_count": 37,
   "metadata": {},
   "outputs": [
    {
     "data": {
      "image/png": "[encoded data removed]",
      "text/plain": [
       "<Figure size 432x288 with 1 Axes>"
      ]
     },
     "metadata": {
      "needs_background": "light"
     },
     "output_type": "display_data"
    }
   ],
   "source": [
    "\n",
    "def moving_average(a, n=3) :\n",
    "    ret = np.cumsum(a, dtype=float)\n",
    "    ret[n:] = ret[n:] - ret[:-n]\n",
    "    return ret[n - 1:] / n\n",
    "\n",
    "plt.plot(rewards)\n",
    "moving_avgs = moving_average(rewards, n=100)\n",
    "\n",
    "\n",
    "plt.plot(moving_avgs)\n",
    "plt.plot(average_qs)\n",
    "\n",
    "np.mean(rewards)\n",
    "\n",
    "plt.show()"
   ]
  },
  {
   "cell_type": "code",
   "execution_count": null,
   "metadata": {},
   "outputs": [],
   "source": []
  },
  {
   "cell_type": "code",
   "execution_count": null,
   "metadata": {},
   "outputs": [],
   "source": []
  },
  {
   "cell_type": "code",
   "execution_count": null,
   "metadata": {},
   "outputs": [],
   "source": []
  }
 ],
 "metadata": {
  "kernelspec": {
   "display_name": "Python 3",
   "language": "python",
   "name": "python3"
  },
  "language_info": {
   "codemirror_mode": {
    "name": "ipython",
    "version": 3
   },
   "file_extension": ".py",
   "mimetype": "text/x-python",
   "name": "python",
   "nbconvert_exporter": "python",
   "pygments_lexer": "ipython3",
   "version": "3.7.4"
  }
 },
 "nbformat": 4,
 "nbformat_minor": 4
}
